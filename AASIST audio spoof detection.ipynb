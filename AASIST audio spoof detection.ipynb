{
  "cells": [
    {
      "cell_type": "code",
      "source": [
        "import torch\n",
        "import torch.nn as nn\n",
        "import torch.optim as optim\n",
        "from torch.utils.data import Dataset, DataLoader\n",
        "import librosa\n",
        "import numpy as np\n",
        "import torch.nn.functional as F\n",
        "from sklearn.metrics import roc_curve\n",
        "import os\n",
        "import matplotlib.pyplot as plt\n",
        "import warnings\n",
        "warnings.filterwarnings(\"ignore\")"
      ],
      "metadata": {
        "id": "Kwq9Hx_aE1-7"
      },
      "execution_count": 15,
      "outputs": []
    },
    {
      "cell_type": "code",
      "source": [
        "from google.colab import drive\n",
        "drive.mount('/content/drive')"
      ],
      "metadata": {
        "colab": {
          "base_uri": "https://localhost:8080/"
        },
        "id": "JLKgn4r_5SzM",
        "outputId": "a4bbc76f-9c98-4d8d-bc63-84f5cae912b9"
      },
      "execution_count": 2,
      "outputs": [
        {
          "output_type": "stream",
          "name": "stdout",
          "text": [
            "Mounted at /content/drive\n"
          ]
        }
      ]
    },
    {
      "cell_type": "code",
      "source": [
        "import torch.nn as nn\n",
        "\n",
        "class ASSIST(nn.Module):\n",
        "    def __init__(self):\n",
        "        super(ASSIST, self).__init__()\n",
        "        \n",
        "        # define the convolutional layers\n",
        "        self.conv1 = nn.Conv1d(in_channels=1, out_channels=16, kernel_size=5, stride=2, padding=2)\n",
        "        self.bn1 = nn.BatchNorm1d(num_features=16)\n",
        "        self.pool1 = nn.MaxPool1d(kernel_size=2, stride=2)\n",
        "        \n",
        "        self.conv2 = nn.Conv1d(in_channels=16, out_channels=32, kernel_size=5, stride=2, padding=2)\n",
        "        self.bn2 = nn.BatchNorm1d(num_features=32)\n",
        "        self.pool2 = nn.MaxPool1d(kernel_size=2, stride=2)\n",
        "        \n",
        "        self.conv3 = nn.Conv1d(in_channels=32, out_channels=64, kernel_size=5, stride=2, padding=2)\n",
        "        self.bn3 = nn.BatchNorm1d(num_features=64)\n",
        "        self.pool3 = nn.MaxPool1d(kernel_size=2, stride=2)\n",
        "        \n",
        "        # define the fully connected layers\n",
        "        self.fc1 = nn.Linear(in_features=80000, out_features=128)\n",
        "        self.dropout = nn.Dropout(p=0.5)\n",
        "        self.fc2 = nn.Linear(in_features=128, out_features=2)\n",
        "        \n",
        "    def forward(self, x):\n",
        "        # apply the convolutional layers\n",
        "        x = x.view(x.shape[0],1, x.shape[1])\n",
        "\n",
        "        x = self.conv1(x)\n",
        "        x = self.bn1(x)\n",
        "        x = nn.functional.relu(x)\n",
        "        x = self.pool1(x)\n",
        "        \n",
        "        x = self.conv2(x)\n",
        "        x = self.bn2(x)\n",
        "        x = nn.functional.relu(x)\n",
        "        x = self.pool2(x)\n",
        "        \n",
        "        x = self.conv3(x)\n",
        "        x = self.bn3(x)\n",
        "        x = nn.functional.relu(x)\n",
        "        x = self.pool3(x)\n",
        "        \n",
        "        # reshape the output of the convolutional layers\n",
        "        x = x.view(x.size(0), -1)\n",
        "        \n",
        "        # apply the fully connected layers\n",
        "        x = self.fc1(x)\n",
        "        x = nn.functional.relu(x)\n",
        "        x = self.dropout(x)\n",
        "        x = self.fc2(x)\n",
        "        \n",
        "        return x\n"
      ],
      "metadata": {
        "id": "y03CaINwe12N"
      },
      "execution_count": 3,
      "outputs": []
    },
    {
      "cell_type": "code",
      "source": [
        "path = '/content/drive/MyDrive/DAI/Spoof Detection/'\n",
        "os.listdir(path)"
      ],
      "metadata": {
        "id": "r1LC6bs60znL",
        "colab": {
          "base_uri": "https://localhost:8080/"
        },
        "outputId": "4bc1651a-6421-41a4-c9ec-242adff86752"
      },
      "execution_count": 4,
      "outputs": [
        {
          "output_type": "execute_result",
          "data": {
            "text/plain": [
              "['Audio_english', 'TTS_english']"
            ]
          },
          "metadata": {},
          "execution_count": 4
        }
      ]
    },
    {
      "cell_type": "code",
      "source": [
        "class AudioDataset(Dataset):\n",
        "    def __init__(self, real_audio_dir, fake_audio_dir):\n",
        "        self.real_audio_dir = real_audio_dir\n",
        "        self.fake_audio_dir = fake_audio_dir\n",
        "        self.real_audio_files = os.listdir(self.real_audio_dir)\n",
        "        self.fake_audio_files = os.listdir(self.fake_audio_dir)\n",
        "        self.sample_rate = 16000 # sample rate for all audio files\n",
        "        \n",
        "    def __len__(self):\n",
        "        return len(self.real_audio_files) + len(self.fake_audio_files)\n",
        "    \n",
        "    def __getitem__(self, idx):\n",
        "        if idx < len(self.real_audio_files):\n",
        "            audio_file = self.real_audio_files[idx]\n",
        "            label = 0 # 0 for real audio\n",
        "            audio_path = os.path.join(self.real_audio_dir, audio_file)\n",
        "        else:\n",
        "            audio_file = self.fake_audio_files[idx - len(self.real_audio_files)]\n",
        "            label = 1 # 1 for fake audio\n",
        "            audio_path = os.path.join(self.fake_audio_dir, audio_file)\n",
        "        \n",
        "        waveform, sr = librosa.load(audio_path, sr=self.sample_rate)\n",
        "        waveform = torch.from_numpy(waveform).float()\n",
        "        waveform_length = waveform.shape[0]\n",
        "        \n",
        "        # pad or truncate the waveform to have the same length\n",
        "        target_length = self.sample_rate * 5 # 5 seconds\n",
        "        if waveform_length < target_length:\n",
        "            num_missing_samples = target_length - waveform_length\n",
        "            padding = torch.zeros(num_missing_samples)\n",
        "            waveform = torch.cat((waveform, padding))\n",
        "        else:\n",
        "            waveform = waveform[:target_length]\n",
        "        \n",
        "        return waveform, label\n",
        "            \n",
        "# Define the data loaders\n",
        "dataset = AudioDataset(path+'Audio_english', path+'TTS_english')\n",
        "#test_dataset = AudioDataset('path/to/testing/data')\n",
        "\n",
        "print(len(dataset))\n",
        "\n",
        "train_dataset,test_dataset = torch.utils.data.dataset.random_split(dataset,[650,137])\n",
        "\n",
        "\n",
        "train_loader = DataLoader(train_dataset, batch_size=32, shuffle=True)\n",
        "test_loader = DataLoader(test_dataset, batch_size=32, shuffle=False)"
      ],
      "metadata": {
        "colab": {
          "base_uri": "https://localhost:8080/"
        },
        "id": "PelEX-vRe14E",
        "outputId": "36fc1fbb-9aae-40f4-dfd7-383268fac4e1"
      },
      "execution_count": 5,
      "outputs": [
        {
          "output_type": "stream",
          "name": "stdout",
          "text": [
            "787\n"
          ]
        }
      ]
    },
    {
      "cell_type": "code",
      "source": [
        "a = iter(test_loader)\n",
        "b = next(a)\n",
        "print(b[0].shape)\n",
        "print(b[1])"
      ],
      "metadata": {
        "colab": {
          "base_uri": "https://localhost:8080/"
        },
        "id": "4PhDxgPLkd43",
        "outputId": "69e1b62c-46c2-49f9-ea5b-7359f4f3aae6"
      },
      "execution_count": 7,
      "outputs": [
        {
          "output_type": "stream",
          "name": "stdout",
          "text": [
            "torch.Size([32, 80000])\n",
            "tensor([0, 0, 1, 1, 0, 0, 1, 0, 0, 1, 0, 1, 0, 0, 1, 0, 0, 1, 0, 1, 0, 0, 0, 0,\n",
            "        0, 0, 1, 0, 1, 0, 0, 0])\n"
          ]
        }
      ]
    },
    {
      "cell_type": "code",
      "source": [
        "def train(model, train_loader, test_loader, num_epochs):\n",
        "    device = torch.device(\"cuda:0\" if torch.cuda.is_available() else \"cpu\")\n",
        "    model.to(device)\n",
        "    criterion = nn.CrossEntropyLoss()\n",
        "    optimizer = optim.Adam(model.parameters(), lr=0.001)\n",
        "    \n",
        "    for epoch in range(num_epochs):\n",
        "        model.train()\n",
        "        train_loss = 0\n",
        "        train_acc = 0\n",
        "        \n",
        "        for data, label in train_loader:\n",
        "            data = data.to(device)\n",
        "            label = label.to(device)\n",
        "            optimizer.zero_grad()\n",
        "            output = model(data)\n",
        "            loss = criterion(output, label)\n",
        "            loss.backward()\n",
        "            optimizer.step()\n",
        "            train_loss += loss.item()\n",
        "            pred = output.argmax(dim=1, keepdim=True)\n",
        "            train_acc += pred.eq(label.view_as(pred)).sum().item()\n",
        "        \n",
        "        train_loss /= len(train_loader.dataset)\n",
        "        train_acc /= len(train_loader.dataset)\n",
        "        \n",
        "        model.eval()\n",
        "        test_loss = 0\n",
        "        test_acc = 0\n",
        "        \n",
        "        with torch.no_grad():\n",
        "            for data, label in test_loader:\n",
        "                data = data.to(device)\n",
        "                label = label.to(device)\n",
        "                output = model(data)\n",
        "                loss = criterion(output, label)\n",
        "                test_loss += loss.item()\n",
        "                pred = output.argmax(dim=1, keepdim=True)\n",
        "                test_acc += pred.eq(label.view_as(pred)).sum().item()\n",
        "        \n",
        "        test_loss /= len(test_loader.dataset)\n",
        "        test_acc /= len(test_loader.dataset)\n",
        "        \n",
        "        print(f\"Epoch {epoch+1}: Train Loss = {train_loss:.4f}, Train Accuracy = {train_acc:.4f}, Test Loss = {test_loss:.4f}, Test Accuracy = {test_acc:.4f}\")\n",
        "\n",
        "# Train the model\n",
        "model = ASSIST()\n",
        "train(model, train_loader, test_loader, num_epochs=5)"
      ],
      "metadata": {
        "colab": {
          "base_uri": "https://localhost:8080/"
        },
        "id": "C46mGnIUfCjz",
        "outputId": "a6a55aee-d258-4be9-b31f-beec3bb95c6f"
      },
      "execution_count": 8,
      "outputs": [
        {
          "output_type": "stream",
          "name": "stdout",
          "text": [
            "Epoch 1: Train Loss = 0.0553, Train Accuracy = 0.8754, Test Loss = 0.0516, Test Accuracy = 0.3723\n",
            "Epoch 2: Train Loss = 0.0031, Train Accuracy = 0.9923, Test Loss = 0.2226, Test Accuracy = 0.6496\n",
            "Epoch 3: Train Loss = 0.0027, Train Accuracy = 0.9892, Test Loss = 0.1240, Test Accuracy = 0.7445\n",
            "Epoch 4: Train Loss = 0.0062, Train Accuracy = 0.9923, Test Loss = 0.0026, Test Accuracy = 0.9854\n",
            "Epoch 5: Train Loss = 0.0030, Train Accuracy = 0.9923, Test Loss = 0.0007, Test Accuracy = 0.9854\n"
          ]
        }
      ]
    },
    {
      "cell_type": "markdown",
      "source": [
        "# To check on Pretrained AASIST model"
      ],
      "metadata": {
        "id": "VO1622TdxUSa"
      }
    },
    {
      "cell_type": "code",
      "source": [
        "!git clone 'https://github.com/clovaai/aasist'"
      ],
      "metadata": {
        "colab": {
          "base_uri": "https://localhost:8080/"
        },
        "id": "WDekkbRkxKcM",
        "outputId": "d60d2340-1178-43d7-82ee-a672069abf7f"
      },
      "execution_count": null,
      "outputs": [
        {
          "output_type": "stream",
          "name": "stdout",
          "text": [
            "Cloning into 'aasist'...\n",
            "remote: Enumerating objects: 38, done.\u001b[K\n",
            "remote: Counting objects: 100% (6/6), done.\u001b[K\n",
            "remote: Compressing objects: 100% (3/3), done.\u001b[K\n",
            "remote: Total 38 (delta 3), reused 3 (delta 3), pack-reused 32\u001b[K\n",
            "Unpacking objects: 100% (38/38), 1.43 MiB | 10.93 MiB/s, done.\n"
          ]
        }
      ]
    },
    {
      "cell_type": "code",
      "source": [
        "%cd aasist\n",
        "!pip install -r requirements.txt"
      ],
      "metadata": {
        "colab": {
          "base_uri": "https://localhost:8080/"
        },
        "id": "vbI1pMAWxKep",
        "outputId": "06e362a7-e905-4a34-999f-815565fefb1e"
      },
      "execution_count": null,
      "outputs": [
        {
          "output_type": "stream",
          "name": "stdout",
          "text": [
            "/content/aasist\n",
            "Looking in indexes: https://pypi.org/simple, https://us-python.pkg.dev/colab-wheels/public/simple/\n",
            "Requirement already satisfied: torch>=1.6.0 in /usr/local/lib/python3.8/dist-packages (from -r requirements.txt (line 1)) (1.13.1+cu116)\n",
            "Collecting torchcontrib\n",
            "  Downloading torchcontrib-0.0.2.tar.gz (11 kB)\n",
            "  Preparing metadata (setup.py) ... \u001b[?25l\u001b[?25hdone\n",
            "Requirement already satisfied: numpy in /usr/local/lib/python3.8/dist-packages (from -r requirements.txt (line 3)) (1.22.4)\n",
            "Requirement already satisfied: soundfile in /usr/local/lib/python3.8/dist-packages (from -r requirements.txt (line 4)) (0.12.1)\n",
            "Requirement already satisfied: typing-extensions in /usr/local/lib/python3.8/dist-packages (from torch>=1.6.0->-r requirements.txt (line 1)) (4.5.0)\n",
            "Requirement already satisfied: cffi>=1.0 in /usr/local/lib/python3.8/dist-packages (from soundfile->-r requirements.txt (line 4)) (1.15.1)\n",
            "Requirement already satisfied: pycparser in /usr/local/lib/python3.8/dist-packages (from cffi>=1.0->soundfile->-r requirements.txt (line 4)) (2.21)\n",
            "Building wheels for collected packages: torchcontrib\n",
            "  Building wheel for torchcontrib (setup.py) ... \u001b[?25l\u001b[?25hdone\n",
            "  Created wheel for torchcontrib: filename=torchcontrib-0.0.2-py3-none-any.whl size=7532 sha256=e3c85e62be4ab4fd78dd4522ab83352d60a79ddbcd35644d469f0a4f0fcae400\n",
            "  Stored in directory: /root/.cache/pip/wheels/3b/75/17/b11b16ad90276ff6e4e03ec375d55291a186c7fe9dbf87fba3\n",
            "Successfully built torchcontrib\n",
            "Installing collected packages: torchcontrib\n",
            "Successfully installed torchcontrib-0.0.2\n"
          ]
        }
      ]
    },
    {
      "cell_type": "code",
      "source": [
        "# Removed unnecessary content from the main.py file.\n",
        "# After making the required changes in main.py file and config files\n",
        "\n",
        "!python main.py --eval --config ./config/AASIST.conf"
      ],
      "metadata": {
        "id": "ueO6Ou-7yjVq",
        "colab": {
          "base_uri": "https://localhost:8080/"
        },
        "outputId": "ba626a85-735b-4284-e4a0-1e7826840df2"
      },
      "execution_count": 9,
      "outputs": [
        {
          "output_type": "stream",
          "name": "stdout",
          "text": [
            "Epoch 1: Train Loss = 0.0603, Train Accuracy = 0.8369, Test Loss = 0.2511, Test Accuracy = 0.6496\n",
            "Epoch 2: Train Loss = 0.0114, Train Accuracy = 0.9723, Test Loss = 0.1595, Test Accuracy = 0.6642\n",
            "Epoch 3: Train Loss = 0.0059, Train Accuracy = 0.9785, Test Loss = 0.0354, Test Accuracy = 0.8978\n"
          ]
        }
      ]
    },
    {
      "cell_type": "code",
      "source": [
        "criterion = nn.CrossEntropyLoss()\n",
        "device = torch.device(\"cuda:0\" if torch.cuda.is_available() else \"cpu\")\n",
        "\n",
        "def evaluation(model,test_dl):\n",
        "    model.eval()\n",
        "    running_loss = 0.0\n",
        "    running_corrects = 0\n",
        "    total = 0\n",
        "    preds = []\n",
        "    pred_labels = []\n",
        "    labels = []\n",
        "\n",
        "            # Disable gradient calculation for validation or inference using torch.no_rad()\n",
        "    with torch.no_grad():\n",
        "        for x,y in test_dl:\n",
        "            x = x.to(device)\n",
        "            y = y.to(device) #CHW --> #HWC\n",
        "            valid_logits = model(x)\n",
        "            predict_prob = F.softmax(valid_logits)\n",
        "            _,predictions = predict_prob.max(1)\n",
        "            predictions = predictions.to('cpu')\n",
        "\n",
        "            _, valid_preds = torch.max(valid_logits, 1)\n",
        "            valid_loss = criterion(valid_logits,y)\n",
        "            running_loss += valid_loss.item() * x.size(0)\n",
        "            running_corrects += torch.sum(valid_preds == y.data)\n",
        "            total += y.size(0)\n",
        "            predict_prob = predict_prob.to('cpu')\n",
        "\n",
        "            pred_labels.extend(list(predictions.numpy()))\n",
        "            preds.extend(list(predict_prob.numpy()))\n",
        "            y = y.to('cpu')\n",
        "            labels.extend(list(y.numpy()))\n",
        "\n",
        "    epoch_loss = running_loss / len(test_dataset)\n",
        "    epoch_acc = running_corrects.double() / len(test_dataset)\n",
        "    print(\"Test Loss is {}\".format(epoch_loss))\n",
        "    print(\"Test Accuracy is {}\".format(epoch_acc.cpu()))\n",
        "    return np.array(labels),np.array(pred_labels),np.array(preds)\n",
        "\n",
        "def calculate_eer(y_test, y_pred):\n",
        "    # Calculate the false positive rate (fpr) and true positive rate (tpr)\n",
        "    fpr, tpr, thresholds = roc_curve(y_test, y_pred)\n",
        "    \n",
        "    # Find the threshold index closest to the point where fpr = 1 - tpr\n",
        "    fnr = 1 - tpr\n",
        "    eer_threshold_idx = np.argmin(np.abs(fnr - fpr))\n",
        "    \n",
        "    # Calculate EER as the average of the two closest points to the threshold\n",
        "    eer = (fpr[eer_threshold_idx] + fnr[eer_threshold_idx]) / 2\n",
        "    \n",
        "    return eer"
      ],
      "metadata": {
        "id": "RBwhUUWqFrAl"
      },
      "execution_count": 12,
      "outputs": []
    },
    {
      "cell_type": "code",
      "source": [
        "import copy\n",
        "def roc_det(y_true,y_pred):\n",
        "    metrics = {'fpr':[],'tpr':[],'fnr':[]}\n",
        "    for i in np.arange(0,1.2,0.001):\n",
        "        new_y = copy.deepcopy(y_pred)\n",
        "        y_pred_new = (new_y > i)\n",
        "        fp = ((y_true == 0) & (y_pred_new == 1)).sum()\n",
        "        tp = ((y_true == 1) & (y_pred_new == 1)).sum()\n",
        "        fn = ((y_true == 1) & (y_pred_new == 0)).sum()\n",
        "        tn = ((y_true == 0) & (y_pred_new == 0)).sum()\n",
        "        metrics['fpr'].append(fp/(fp+tn))\n",
        "        metrics['tpr'].append(tp/(tp+fn))\n",
        "        metrics['fnr'].append(fn/(fn+tp))\n",
        "    return metrics"
      ],
      "metadata": {
        "id": "OEaW1OYCaml8"
      },
      "execution_count": 79,
      "outputs": []
    },
    {
      "cell_type": "code",
      "source": [
        "labels1, pred_labels1, preds1 = evaluation(model,test_loader)\n",
        "print('EER:', calculate_eer(labels1, pred_labels1))"
      ],
      "metadata": {
        "colab": {
          "base_uri": "https://localhost:8080/"
        },
        "id": "_8p7RWxPGwTt",
        "outputId": "f4a0fcaf-0409-4ec7-c70e-105078417745"
      },
      "execution_count": 16,
      "outputs": [
        {
          "output_type": "stream",
          "name": "stdout",
          "text": [
            "Test Loss is 0.02127577176608164\n",
            "Test Accuracy is 0.9854014598540146\n",
            "EER: 0.016034644194756573\n"
          ]
        }
      ]
    },
    {
      "cell_type": "code",
      "source": [
        "metrics1 = roc_det(labels1,preds1[:,1])\n",
        "plt.plot(metrics1['fpr'],metrics1['fnr'])\n",
        "plt.title('Decision Error Trade-off (DET) Curve')\n",
        "plt.xlabel('False Positive Rate')\n",
        "plt.ylabel('False Negative Rate')\n",
        "plt.show()"
      ],
      "metadata": {
        "colab": {
          "base_uri": "https://localhost:8080/",
          "height": 295
        },
        "id": "tj583-2FK6EM",
        "outputId": "494eade0-7865-48f9-c39d-068ded864663"
      },
      "execution_count": 84,
      "outputs": [
        {
          "output_type": "display_data",
          "data": {
            "text/plain": [
              "<Figure size 432x288 with 1 Axes>"
            ],
            "image/png": "[encoded data removed]"
          },
          "metadata": {
            "needs_background": "light"
          }
        }
      ]
    },
    {
      "cell_type": "code",
      "source": [
        "# model2 corresponds to the AASIST model\n",
        "labels, pred_labels, preds = evaluation(model2,test_loader)\n",
        "print('EER:', calculate_eer(labels, pred_labels))"
      ],
      "metadata": {
        "colab": {
          "base_uri": "https://localhost:8080/"
        },
        "id": "X00twX3iFrCr",
        "outputId": "65311776-7143-4eb8-d756-0f0edd533818"
      },
      "execution_count": 14,
      "outputs": [
        {
          "output_type": "stream",
          "name": "stderr",
          "text": [
            "<ipython-input-12-67af477b36a1>:19: UserWarning: Implicit dimension choice for softmax has been deprecated. Change the call to include dim=X as an argument.\n",
            "  predict_prob = F.softmax(valid_logits)\n"
          ]
        },
        {
          "output_type": "stream",
          "name": "stdout",
          "text": [
            "Test Loss is 0.9082689537619152\n",
            "Test Accuracy is 0.8978102189781022\n",
            "EER: 0.14583333333333331\n"
          ]
        }
      ]
    },
    {
      "cell_type": "code",
      "source": [
        "metrics = roc_det(labels,preds[:,1])\n",
        "plt.plot(metrics1['fpr'],metrics1['fnr'], label = 'Our Trained Model')\n",
        "plt.plot(metrics['fpr'],metrics['fnr'], label = 'Fine Tuned Model')\n",
        "plt.legend()\n",
        "plt.title('Decision Error Trade-off (DET) Curve')\n",
        "plt.xlabel('False Positive Rate')\n",
        "plt.ylabel('False Negative Rate')\n",
        "plt.show()"
      ],
      "metadata": {
        "colab": {
          "base_uri": "https://localhost:8080/",
          "height": 295
        },
        "id": "Kv4tk0VyMlPd",
        "outputId": "e88779c8-d707-4af1-d17f-5a455dce808c"
      },
      "execution_count": 83,
      "outputs": [
        {
          "output_type": "display_data",
          "data": {
            "text/plain": [
              "<Figure size 432x288 with 1 Axes>"
            ],
            "image/png": "[encoded data removed]"
          },
          "metadata": {
            "needs_background": "light"
          }
        }
      ]
    },
    {
      "cell_type": "code",
      "source": [],
      "metadata": {
        "id": "42PsQGtlcBz6"
      },
      "execution_count": null,
      "outputs": []
    }
  ],
  "metadata": {
    "colab": {
      "provenance": []
    },
    "kernelspec": {
      "display_name": "Python 3",
      "language": "python",
      "name": "python3"
    },
    "language_info": {
      "codemirror_mode": {
        "name": "ipython",
        "version": 3
      },
      "file_extension": ".py",
      "mimetype": "text/x-python",
      "name": "python",
      "nbconvert_exporter": "python",
      "pygments_lexer": "ipython3",
      "version": "3.7.4"
    },
    "accelerator": "GPU",
    "gpuClass": "standard"
  },
  "nbformat": 4,
  "nbformat_minor": 0
}