{
 "cells": [
  {
   "cell_type": "code",
   "execution_count": 5,
   "id": "4ae2e92f",
   "metadata": {},
   "outputs": [],
   "source": [
    "import os\n",
    "import json\n",
    "import time\n",
    "import random\n",
    "import numpy as np\n",
    "import pandas as pd\n",
    "import pydicom\n",
    "from PIL import Image\n",
    "from sklearn.model_selection import train_test_split\n",
    "import warnings\n",
    "warnings.filterwarnings(\"ignore\")"
   ]
  },
  {
   "cell_type": "code",
   "execution_count": 3,
   "id": "47e6a415",
   "metadata": {},
   "outputs": [],
   "source": [
    "import torch\n",
    "import torch.nn as nn\n",
    "import torch.optim as optim\n",
    "import torchvision\n",
    "import torch.nn.functional as F\n",
    "from torchvision import transforms\n",
    "from torch.utils.data import Dataset, DataLoader\n",
    "import torchvision.models as models\n",
    "from sklearn.metrics import precision_recall_fscore_support, roc_auc_score\n",
    "import matplotlib.pyplot as plt\n",
    "import sklearn.metrics as metrics"
   ]
  },
  {
   "cell_type": "code",
   "execution_count": 8,
   "id": "d43a57fb",
   "metadata": {},
   "outputs": [
    {
     "data": {
      "text/plain": [
       "device(type='cuda')"
      ]
     },
     "execution_count": 8,
     "metadata": {},
     "output_type": "execute_result"
    }
   ],
   "source": [
    "os.environ[\"CUDA_DEVICE_ORDER\"]=\"PCI_BUS_ID\"  \n",
    "os.environ[\"CUDA_VISIBLE_DEVICES\"]=\"4\"\n",
    "device = torch.device(\"cuda\" if torch.cuda.is_available() else \"cpu\")\n",
    "device"
   ]
  },
  {
   "cell_type": "code",
   "execution_count": 20,
   "id": "56c41dab",
   "metadata": {},
   "outputs": [],
   "source": [
    "config = dict(\n",
    "    saved_path=\"saved/random.pt\",\n",
    "    best_saved_path = \"saved/random_best.pt\",\n",
    "    lr=0.001, \n",
    "    EPOCHS = 3,\n",
    "    BATCH_SIZE = 32,\n",
    "    IMAGE_SIZE = 32,\n",
    "    TRAIN_VALID_SPLIT = 0.2,\n",
    "    device=device,\n",
    "    SEED = 42,\n",
    "    pin_memory=True,\n",
    "    num_workers=2,\n",
    "    USE_AMP = True,\n",
    "    channels_last=False)"
   ]
  },
  {
   "cell_type": "code",
   "execution_count": 21,
   "id": "57067a9d",
   "metadata": {},
   "outputs": [],
   "source": [
    "random.seed(config['SEED'])\n",
    "# If you or any of the libraries you are using rely on NumPy, you can seed the global NumPy RNG \n",
    "np.random.seed(config['SEED'])\n",
    "# Prevent RNG for CPU and GPU using torch\n",
    "torch.manual_seed(config['SEED'])\n",
    "torch.cuda.manual_seed(config['SEED'])\n",
    "torch.backends.cudnn.benchmarks = True\n",
    "torch.backends.cudnn.deterministic = True\n",
    "\n",
    "torch.backends.cuda.matmul.allow_tf32 = True\n",
    "\n",
    "# The flag below controls whether to allow TF32 on cuDNN. This flag defaults to True.\n",
    "torch.backends.cudnn.allow_tf32 = True"
   ]
  },
  {
   "cell_type": "code",
   "execution_count": 22,
   "id": "4f53cc65",
   "metadata": {},
   "outputs": [],
   "source": [
    "data_transforms = {\n",
    "    'train': transforms.Compose([\n",
    "        transforms.RandomResizedCrop((config['IMAGE_SIZE'],config['IMAGE_SIZE'])),\n",
    "        #transforms.RandomHorizontalFlip(),\n",
    "        transforms.ToTensor(),\n",
    "        transforms.Normalize([0.485, 0.456, 0.406], [0.229, 0.224, 0.225])\n",
    "    ]),\n",
    "    'val': transforms.Compose([\n",
    "        transforms.Resize((config['IMAGE_SIZE'],config['IMAGE_SIZE'])),\n",
    "        transforms.ToTensor(),\n",
    "        transforms.Normalize([0.485, 0.456, 0.406], [0.229, 0.224, 0.225])\n",
    "    ]),\n",
    "    'test': transforms.Compose([\n",
    "        transforms.Resize((config['IMAGE_SIZE'],config['IMAGE_SIZE'])),\n",
    "        transforms.ToTensor(),\n",
    "        transforms.Normalize([0.485, 0.456, 0.406], [0.229, 0.224, 0.225])\n",
    "    ]),\n",
    "}"
   ]
  },
  {
   "cell_type": "code",
   "execution_count": 23,
   "id": "792890e9",
   "metadata": {},
   "outputs": [
    {
     "name": "stdout",
     "output_type": "stream",
     "text": [
      "Files already downloaded and verified\n",
      "Files already downloaded and verified\n"
     ]
    }
   ],
   "source": [
    "train_data = torchvision.datasets.CIFAR10(root='../Images', train=True,\n",
    "                                        download=True, transform=data_transforms['train'])\n",
    "train_dl = torch.utils.data.DataLoader(train_data, batch_size=32,shuffle=True, num_workers = config['num_workers'],\n",
    "                                          pin_memory = config['pin_memory'])\n",
    "\n",
    "test_data = torchvision.datasets.CIFAR10(root='../Images', train=False,\n",
    "                                       download=True, transform=data_transforms['test'])\n",
    "test_dl = torch.utils.data.DataLoader(test_data, batch_size=32,shuffle=True, num_workers = config['num_workers'],\n",
    "                                          pin_memory = config['pin_memory'])\n",
    "valid_dl = test_dl"
   ]
  },
  {
   "cell_type": "code",
   "execution_count": 29,
   "id": "e0c1eb9d",
   "metadata": {},
   "outputs": [],
   "source": [
    "valid_data = test_data"
   ]
  },
  {
   "cell_type": "code",
   "execution_count": 24,
   "id": "7dd5b8f2",
   "metadata": {},
   "outputs": [
    {
     "name": "stdout",
     "output_type": "stream",
     "text": [
      "tensor([3, 8, 8, 3, 1, 5, 3, 7, 3, 9, 4, 5, 4, 4, 0, 2, 1, 8, 6, 9, 5, 5, 0, 9,\n",
      "        9, 6, 6, 9, 5, 4, 7, 1])\n"
     ]
    },
    {
     "data": {
      "text/plain": [
       "<matplotlib.image.AxesImage at 0x7f7768aac0f0>"
      ]
     },
     "execution_count": 24,
     "metadata": {},
     "output_type": "execute_result"
    },
    {
     "data": {
      "image/png": "[encoded data removed]",
      "text/plain": [
       "<Figure size 432x288 with 1 Axes>"
      ]
     },
     "metadata": {
      "needs_background": "light"
     },
     "output_type": "display_data"
    }
   ],
   "source": [
    "import matplotlib.pyplot as plt\n",
    "a = iter(valid_dl)\n",
    "b = next(a)\n",
    "print(b[1])\n",
    "plt.imshow(b[0][0][0])"
   ]
  },
  {
   "cell_type": "code",
   "execution_count": 33,
   "id": "cd19efe0",
   "metadata": {},
   "outputs": [],
   "source": [
    "def train_model(model,criterion,optimizer,num_epochs=10):\n",
    "\n",
    "    since = time.time()                                            \n",
    "    batch_ct = 0\n",
    "    example_ct = 0\n",
    "    best_acc = 0.3\n",
    "    for epoch in range(num_epochs):\n",
    "        print('Epoch {}/{}'.format(epoch, num_epochs - 1))\n",
    "        print('-' * 10)\n",
    "        run_corrects = 0\n",
    "        #Training\n",
    "        model.train()\n",
    "        for x,y in train_dl: #BS=32 ([BS,3,224,224], [BS,4])            \n",
    "            if config['channels_last']:\n",
    "                x = x.to(config['device'], memory_format=torch.channels_last) #CHW --> #HWC\n",
    "            else:\n",
    "                x = x.to(config['device'])\n",
    "            y = y.to(config['device']) #CHW --> #HWC\n",
    "            \n",
    "            \n",
    "            \n",
    "            optimizer.zero_grad()\n",
    "            #optimizer.zero_grad(set_to_none=True)\n",
    "            ######################################################################\n",
    "            \n",
    "            train_logits = model(x) #Input = [BS,3,224,224] (Image) -- Model --> [BS,4] (Output Scores)\n",
    "            \n",
    "            _, train_preds = torch.max(train_logits, 1)\n",
    "            train_loss = criterion(train_logits,y)\n",
    "            train_loss = criterion(train_logits,y)\n",
    "            run_corrects += torch.sum(train_preds == y.data)\n",
    "            \n",
    "            train_loss.backward() # Backpropagation this is where your W_gradient\n",
    "            loss=train_loss\n",
    "\n",
    "            optimizer.step() # W_new = W_old - LR * W_gradient \n",
    "            example_ct += len(x) \n",
    "            batch_ct += 1\n",
    "            if ((batch_ct + 1) % 400) == 0:\n",
    "                train_log(loss, example_ct, epoch)\n",
    "            ########################################################################\n",
    "        \n",
    "        #validation\n",
    "        model.eval()\n",
    "        running_loss = 0.0\n",
    "        running_corrects = 0\n",
    "        total = 0\n",
    "        # Disable gradient calculation for validation or inference using torch.no_rad()\n",
    "        with torch.no_grad():\n",
    "            for x,y in valid_dl:\n",
    "                if config['channels_last']:\n",
    "                    x = x.to(config['device'], memory_format=torch.channels_last) #CHW --> #HWC\n",
    "                else:\n",
    "                    x = x.to(config['device'])\n",
    "                y = y.to(config['device'])\n",
    "                valid_logits = model(x)\n",
    "                _, valid_preds = torch.max(valid_logits, 1)\n",
    "                valid_loss = criterion(valid_logits,y)\n",
    "                running_loss += valid_loss.item() * x.size(0)\n",
    "                running_corrects += torch.sum(valid_preds == y.data)\n",
    "                total += y.size(0)\n",
    "            \n",
    "        epoch_loss = running_loss / len(valid_data)\n",
    "        epoch_acc = running_corrects.double() / len(valid_data)\n",
    "        train_acc = run_corrects.double() / len(train_data)\n",
    "        print(\"Train Accuracy\",train_acc.cpu())\n",
    "        print(\"Validation Loss is {}\".format(epoch_loss))\n",
    "        print(\"Validation Accuracy is {}\\n\".format(epoch_acc.cpu()))\n",
    "        if epoch_acc.cpu()>best_acc:\n",
    "            print('One of the best validation accuracy found.\\n')\n",
    "            #torch.save(model.state_dict(), config['best_saved_path'])\n",
    "            best_acc = epoch_acc.cpu()\n",
    "\n",
    "            \n",
    "    time_elapsed = time.time() - since\n",
    "    print('Training complete in {:.0f}m {:.0f}s'.format(\n",
    "        time_elapsed // 60, time_elapsed % 60))\n",
    "    \n",
    "    #torch.save(model.state_dict(), config['saved_path'])\n",
    "\n",
    "    \n",
    "def train_log(loss, example_ct, epoch):\n",
    "    loss = float(loss)\n",
    "    print(f\"Loss after \" + str(example_ct).zfill(5) + f\" examples: {loss:.3f}\")"
   ]
  },
  {
   "cell_type": "code",
   "execution_count": 34,
   "id": "bba03122",
   "metadata": {},
   "outputs": [],
   "source": [
    "class Net(nn.Module):\n",
    "    def __init__(self):\n",
    "        super(Net, self).__init__()\n",
    "        self.conv1 = nn.Conv2d(3, 16, 3)\n",
    "        self.pool = nn.MaxPool2d(2, 2)\n",
    "        self.conv2 = nn.Conv2d(16, 32, 3)\n",
    "        self.conv3 = nn.Conv2d(32, 64, 3)\n",
    "        self.fc1 = nn.Linear(64 * 2 * 2, 128)\n",
    "        self.fc2 = nn.Linear(128, 10)\n",
    "\n",
    "    def forward(self, x):\n",
    "        x = self.pool(F.relu(self.conv1(x)))\n",
    "        x = self.pool(F.relu(self.conv2(x)))\n",
    "        x = self.pool(F.relu(self.conv3(x)))\n",
    "        x = x.view(-1, 64 * 2 * 2)\n",
    "        x = F.relu(self.fc1(x))\n",
    "        x = self.fc2(x)\n",
    "        return x\n",
    "\n",
    "# Initialize the model and set it to the GPU if available\n",
    "model = Net()"
   ]
  },
  {
   "cell_type": "code",
   "execution_count": 35,
   "id": "15e1908a",
   "metadata": {},
   "outputs": [
    {
     "name": "stdout",
     "output_type": "stream",
     "text": [
      "Epoch 0/9\n",
      "----------\n",
      "Loss after 12768 examples: 1.871\n",
      "Loss after 25568 examples: 1.927\n",
      "Loss after 38368 examples: 1.923\n",
      "Train Accuracy tensor(0.3144, dtype=torch.float64)\n",
      "Validation Loss is 1.4533152322769165\n",
      "Validation Accuracy is 0.4682\n",
      "\n",
      "One of the best validation accuracy found.\n",
      "\n",
      "Epoch 1/9\n",
      "----------\n",
      "Loss after 51152 examples: 1.729\n",
      "Loss after 63952 examples: 1.740\n",
      "Loss after 76752 examples: 1.231\n",
      "Loss after 89552 examples: 1.395\n",
      "Train Accuracy tensor(0.4025, dtype=torch.float64)\n",
      "Validation Loss is 1.3180529211044312\n",
      "Validation Accuracy is 0.5306000000000001\n",
      "\n",
      "One of the best validation accuracy found.\n",
      "\n",
      "Epoch 2/9\n",
      "----------\n",
      "Loss after 102336 examples: 1.710\n",
      "Loss after 115136 examples: 1.803\n",
      "Loss after 127936 examples: 1.578\n",
      "Loss after 140736 examples: 1.728\n",
      "Train Accuracy tensor(0.4510, dtype=torch.float64)\n",
      "Validation Loss is 1.2299341583251953\n",
      "Validation Accuracy is 0.5694\n",
      "\n",
      "One of the best validation accuracy found.\n",
      "\n",
      "Epoch 3/9\n",
      "----------\n",
      "Loss after 153520 examples: 1.093\n",
      "Loss after 166320 examples: 1.701\n",
      "Loss after 179120 examples: 1.529\n",
      "Loss after 191920 examples: 1.337\n",
      "Train Accuracy tensor(0.4737, dtype=torch.float64)\n",
      "Validation Loss is 1.1778363109588623\n",
      "Validation Accuracy is 0.5905\n",
      "\n",
      "One of the best validation accuracy found.\n",
      "\n",
      "Epoch 4/9\n",
      "----------\n",
      "Loss after 204704 examples: 1.458\n",
      "Loss after 217504 examples: 1.673\n",
      "Loss after 230304 examples: 1.146\n",
      "Loss after 243104 examples: 1.155\n",
      "Train Accuracy tensor(0.4864, dtype=torch.float64)\n",
      "Validation Loss is 1.2183500003814698\n",
      "Validation Accuracy is 0.5813\n",
      "\n",
      "Epoch 5/9\n",
      "----------\n",
      "Loss after 255888 examples: 1.305\n",
      "Loss after 268688 examples: 1.399\n",
      "Loss after 281488 examples: 1.336\n",
      "Loss after 294288 examples: 1.492\n",
      "Train Accuracy tensor(0.5020, dtype=torch.float64)\n",
      "Validation Loss is 1.1806742356300355\n",
      "Validation Accuracy is 0.5931000000000001\n",
      "\n",
      "One of the best validation accuracy found.\n",
      "\n",
      "Epoch 6/9\n",
      "----------\n",
      "Loss after 307072 examples: 2.215\n",
      "Loss after 319872 examples: 1.216\n",
      "Loss after 332672 examples: 1.703\n",
      "Loss after 345472 examples: 1.632\n",
      "Train Accuracy tensor(0.5096, dtype=torch.float64)\n",
      "Validation Loss is 1.0627446392059325\n",
      "Validation Accuracy is 0.6238\n",
      "\n",
      "One of the best validation accuracy found.\n",
      "\n",
      "Epoch 7/9\n",
      "----------\n",
      "Loss after 358256 examples: 1.383\n",
      "Loss after 371056 examples: 1.414\n",
      "Loss after 383856 examples: 1.454\n",
      "Loss after 396656 examples: 1.557\n",
      "Train Accuracy tensor(0.5178, dtype=torch.float64)\n",
      "Validation Loss is 1.0891856101989745\n",
      "Validation Accuracy is 0.6242\n",
      "\n",
      "One of the best validation accuracy found.\n",
      "\n",
      "Epoch 8/9\n",
      "----------\n",
      "Loss after 409440 examples: 1.207\n",
      "Loss after 422240 examples: 1.404\n",
      "Loss after 435040 examples: 0.977\n",
      "Loss after 447840 examples: 1.124\n",
      "Train Accuracy tensor(0.5242, dtype=torch.float64)\n",
      "Validation Loss is 1.1070686299324035\n",
      "Validation Accuracy is 0.6223000000000001\n",
      "\n",
      "Epoch 9/9\n",
      "----------\n",
      "Loss after 460624 examples: 1.057\n",
      "Loss after 473424 examples: 1.667\n",
      "Loss after 486224 examples: 1.453\n",
      "Loss after 499024 examples: 1.547\n",
      "Train Accuracy tensor(0.5325, dtype=torch.float64)\n",
      "Validation Loss is 1.0626747463226318\n",
      "Validation Accuracy is 0.6283000000000001\n",
      "\n",
      "One of the best validation accuracy found.\n",
      "\n",
      "Training complete in 2m 14s\n"
     ]
    }
   ],
   "source": [
    "model = model.to(config['device'])\n",
    "criterion = nn.CrossEntropyLoss()\n",
    "optimizer = optim.Adam(model.parameters(),lr=config['lr'])\n",
    "train_model(model,criterion,optimizer,num_epochs=10)"
   ]
  },
  {
   "cell_type": "code",
   "execution_count": null,
   "id": "50c1c18f",
   "metadata": {},
   "outputs": [],
   "source": []
  },
  {
   "cell_type": "markdown",
   "id": "afc847b6",
   "metadata": {},
   "source": [
    "# FGSM"
   ]
  },
  {
   "cell_type": "code",
   "execution_count": 36,
   "id": "cb32dcfa",
   "metadata": {},
   "outputs": [],
   "source": [
    "def fgsm_attack(image, epsilon, data_grad):\n",
    "    # Collect the element-wise sign of the data gradient\n",
    "    sign_data_grad = data_grad.sign()\n",
    "    # Create the perturbed image by adjusting each pixel of the input image\n",
    "    perturbed_image = image + epsilon * sign_data_grad\n",
    "    # Adding clipping to maintain [0,1] range\n",
    "    perturbed_image = torch.clamp(perturbed_image, 0, 1)\n",
    "    # Return the perturbed image\n",
    "    return perturbed_image\n"
   ]
  },
  {
   "cell_type": "code",
   "execution_count": 62,
   "id": "b149942b",
   "metadata": {},
   "outputs": [
    {
     "name": "stdout",
     "output_type": "stream",
     "text": [
      "For Epsilon =  0.03\n",
      "Accuracy on adversarial data: 24 %\n"
     ]
    }
   ],
   "source": [
    "def evaluate_fgsm(epsilon = 0.03):\n",
    "    correct = 0\n",
    "    total = 0\n",
    "\n",
    "    #with torch.no_grad():\n",
    "    for data in test_dl:\n",
    "        images, labels = data\n",
    "        images, labels = images.to(device), labels.to(device)\n",
    "\n",
    "        # Set requires_grad flag to True\n",
    "        images.requires_grad = True\n",
    "\n",
    "        # Compute the gradient\n",
    "        outputs = model(images)\n",
    "        loss = criterion(outputs, labels)\n",
    "\n",
    "        model.zero_grad()\n",
    "        grad = torch.autograd.grad(loss, images, retain_graph=True, only_inputs=True)[0]\n",
    "        data_grad = grad.data\n",
    "\n",
    "        # Generate adversarial examples\n",
    "        perturbed_images = fgsm_attack(images, epsilon, data_grad)\n",
    "        outputs = model(perturbed_images)\n",
    "        _, predicted = torch.max(outputs.data, 1)\n",
    "        total += labels.size(0)\n",
    "        correct += (predicted == labels).sum().item()\n",
    "\n",
    "        # Reset requires_grad flag back to False\n",
    "        images.requires_grad = False\n",
    "    print('For Epsilon = ', epsilon)\n",
    "    print('Accuracy on adversarial data: %d %%' % (100 * correct / total))\n",
    "evaluate_fgsm()\n"
   ]
  },
  {
   "cell_type": "code",
   "execution_count": 63,
   "id": "b3b8cbf8",
   "metadata": {},
   "outputs": [
    {
     "name": "stdout",
     "output_type": "stream",
     "text": [
      "For Epsilon =  0\n",
      "Accuracy on adversarial data: 29 %\n",
      "\n",
      "For Epsilon =  0.01\n",
      "Accuracy on adversarial data: 27 %\n",
      "\n",
      "For Epsilon =  0.05\n",
      "Accuracy on adversarial data: 22 %\n",
      "\n",
      "For Epsilon =  0.1\n",
      "Accuracy on adversarial data: 16 %\n",
      "\n"
     ]
    }
   ],
   "source": [
    "for e in [0,0.01,0.05,0.1]:\n",
    "    evaluate_fgsm(e)\n",
    "    print()"
   ]
  },
  {
   "cell_type": "code",
   "execution_count": null,
   "id": "e3718adf",
   "metadata": {},
   "outputs": [],
   "source": []
  }
 ],
 "metadata": {
  "kernelspec": {
   "display_name": "Python 3 (ipykernel)",
   "language": "python",
   "name": "python3"
  },
  "language_info": {
   "codemirror_mode": {
    "name": "ipython",
    "version": 3
   },
   "file_extension": ".py",
   "mimetype": "text/x-python",
   "name": "python",
   "nbconvert_exporter": "python",
   "pygments_lexer": "ipython3",
   "version": "3.7.3"
  }
 },
 "nbformat": 4,
 "nbformat_minor": 5
}
